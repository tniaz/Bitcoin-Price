{
 "cells": [
  {
   "cell_type": "markdown",
   "metadata": {},
   "source": [
    "Importing required packages"
   ]
  },
  {
   "cell_type": "code",
   "execution_count": 11,
   "metadata": {},
   "outputs": [],
   "source": [
    "import numpy as np\n",
    "import pandas as pd\n",
    "from matplotlib import pyplot as plt\n",
    "from sklearn.preprocessing import MinMaxScaler\n",
    "min_max_scaler = MinMaxScaler()\n",
    "from keras.models import Sequential\n",
    "from keras.layers import Dense\n",
    "from keras.layers import LSTM\n",
    "from sklearn.metrics import mean_squared_error"
   ]
  },
  {
   "cell_type": "markdown",
   "metadata": {},
   "source": [
    "Importing data"
   ]
  },
  {
   "cell_type": "markdown",
   "metadata": {},
   "source": [
    "Dataset: https://www.kaggle.com/mczielinski/bitcoin-historical-data"
   ]
  },
  {
   "cell_type": "code",
   "execution_count": 13,
   "metadata": {},
   "outputs": [],
   "source": [
    "#import the dataset\n",
    "def getrealprice(csv):\n",
    "    df = pd.read_csv(csv)\n",
    "    df['Date'] = pd.to_datetime(df['Timestamp'],unit='s').dt.date\n",
    "    group = df.groupby('Date') #group prices into date\n",
    "    Real_Price = group['Weighted_Price'].mean() #take mean price of date\n",
    "    return Real_Price"
   ]
  },
  {
   "cell_type": "code",
   "execution_count": 14,
   "metadata": {},
   "outputs": [
    {
     "data": {
      "text/plain": [
       "Date\n",
       "2014-12-01    366.775068\n",
       "2014-12-02    375.943001\n",
       "2014-12-03    377.882701\n",
       "2014-12-04    377.991743\n",
       "2014-12-06    378.000000\n",
       "Name: Weighted_Price, dtype: float64"
      ]
     },
     "execution_count": 14,
     "metadata": {},
     "output_type": "execute_result"
    }
   ],
   "source": [
    "Real_price= getrealprice ('coinbase.csv')\n",
    "Real_Price.head()"
   ]
  },
  {
   "cell_type": "markdown",
   "metadata": {},
   "source": [
    "Training and testing split"
   ]
  },
  {
   "cell_type": "code",
   "execution_count": 16,
   "metadata": {},
   "outputs": [],
   "source": [
    "#split data\n",
    "def datasplit (prediction_days):\n",
    "    df_train= Real_Price[:len(Real_Price)-prediction_days]\n",
    "    df_test= Real_Price[len(Real_Price)-prediction_days:]\n",
    "    return df_train, df_test"
   ]
  },
  {
   "cell_type": "code",
   "execution_count": 17,
   "metadata": {},
   "outputs": [],
   "source": [
    "df_train, df_test= datasplit(30)"
   ]
  },
  {
   "cell_type": "code",
   "execution_count": 19,
   "metadata": {},
   "outputs": [],
   "source": [
    "#process data\n",
    "def traintransform(df_train):\n",
    "    training_set=df_train.values\n",
    "    training_set=np.reshape(training_set, (len(training_set), 1))\n",
    "    training_set=min_max_scaler.fit_transform(training_set)\n",
    "    X_train= training_set[0:len(training_set)-1] #sequential split on training set for RNN\n",
    "    y_train= training_set[1:len(training_set)]\n",
    "    X_train= np.reshape(X_train, (len(X_train), 1, 1)) #len(X_train) samples, 1 timestep, 1 feature\n",
    "    return X_train, y_train"
   ]
  },
  {
   "cell_type": "code",
   "execution_count": 20,
   "metadata": {},
   "outputs": [],
   "source": [
    "X_train, y_train= traintransform (df_train)"
   ]
  },
  {
   "cell_type": "markdown",
   "metadata": {},
   "source": [
    "Training model"
   ]
  },
  {
   "cell_type": "code",
   "execution_count": 6,
   "metadata": {},
   "outputs": [
    {
     "name": "stdout",
     "output_type": "stream",
     "text": [
      "Epoch 1/100\n",
      "1240/1240 [==============================] - 2s 1ms/step - loss: 0.0425\n",
      "Epoch 2/100\n",
      "1240/1240 [==============================] - 1s 652us/step - loss: 0.0377\n",
      "Epoch 3/100\n",
      "1240/1240 [==============================] - 1s 657us/step - loss: 0.0349\n",
      "Epoch 4/100\n",
      "1240/1240 [==============================] - 1s 652us/step - loss: 0.0318\n",
      "Epoch 5/100\n",
      "1240/1240 [==============================] - 1s 655us/step - loss: 0.0283\n",
      "Epoch 6/100\n",
      "1240/1240 [==============================] - 1s 661us/step - loss: 0.0245\n",
      "Epoch 7/100\n",
      "1240/1240 [==============================] - 1s 659us/step - loss: 0.0203\n",
      "Epoch 8/100\n",
      "1240/1240 [==============================] - 1s 694us/step - loss: 0.0160\n",
      "Epoch 9/100\n",
      "1240/1240 [==============================] - 1s 667us/step - loss: 0.0119\n",
      "Epoch 10/100\n",
      "1240/1240 [==============================] - 1s 676us/step - loss: 0.0081\n",
      "Epoch 11/100\n",
      "1240/1240 [==============================] - 1s 671us/step - loss: 0.0050\n",
      "Epoch 12/100\n",
      "1240/1240 [==============================] - 1s 667us/step - loss: 0.0028\n",
      "Epoch 13/100\n",
      "1240/1240 [==============================] - 1s 688us/step - loss: 0.0014\n",
      "Epoch 14/100\n",
      "1240/1240 [==============================] - 1s 676us/step - loss: 6.6956e-04\n",
      "Epoch 15/100\n",
      "1240/1240 [==============================] - 1s 682us/step - loss: 3.3295e-04\n",
      "Epoch 16/100\n",
      "1240/1240 [==============================] - 1s 685us/step - loss: 2.1122e-04\n",
      "Epoch 17/100\n",
      "1240/1240 [==============================] - 1s 703us/step - loss: 1.7594e-04\n",
      "Epoch 18/100\n",
      "1240/1240 [==============================] - 1s 692us/step - loss: 1.6596e-04\n",
      "Epoch 19/100\n",
      "1240/1240 [==============================] - 1s 679us/step - loss: 1.6515e-04\n",
      "Epoch 20/100\n",
      "1240/1240 [==============================] - 1s 680us/step - loss: 1.6354e-04\n",
      "Epoch 21/100\n",
      "1240/1240 [==============================] - 1s 672us/step - loss: 1.6256e-04\n",
      "Epoch 22/100\n",
      "1240/1240 [==============================] - 1s 671us/step - loss: 1.6388e-04\n",
      "Epoch 23/100\n",
      "1240/1240 [==============================] - 1s 672us/step - loss: 1.6423e-04\n",
      "Epoch 24/100\n",
      "1240/1240 [==============================] - 1s 696us/step - loss: 1.6132e-04\n",
      "Epoch 25/100\n",
      "1240/1240 [==============================] - 1s 684us/step - loss: 1.6230e-04\n",
      "Epoch 26/100\n",
      "1240/1240 [==============================] - 1s 684us/step - loss: 1.6039e-04\n",
      "Epoch 27/100\n",
      "1240/1240 [==============================] - 1s 697us/step - loss: 1.5924e-04\n",
      "Epoch 28/100\n",
      "1240/1240 [==============================] - 1s 681us/step - loss: 1.6045e-04\n",
      "Epoch 29/100\n",
      "1240/1240 [==============================] - 1s 688us/step - loss: 1.5989e-04\n",
      "Epoch 30/100\n",
      "1240/1240 [==============================] - 1s 679us/step - loss: 1.5997e-04\n",
      "Epoch 31/100\n",
      "1240/1240 [==============================] - 1s 686us/step - loss: 1.5945e-04\n",
      "Epoch 32/100\n",
      "1240/1240 [==============================] - 1s 685us/step - loss: 1.5958e-04\n",
      "Epoch 33/100\n",
      "1240/1240 [==============================] - 1s 689us/step - loss: 1.5922e-04\n",
      "Epoch 34/100\n",
      "1240/1240 [==============================] - 1s 681us/step - loss: 1.6330e-04\n",
      "Epoch 35/100\n",
      "1240/1240 [==============================] - 1s 684us/step - loss: 1.6002e-04\n",
      "Epoch 36/100\n",
      "1240/1240 [==============================] - 1s 678us/step - loss: 1.6089e-04\n",
      "Epoch 37/100\n",
      "1240/1240 [==============================] - 1s 682us/step - loss: 1.5902e-04\n",
      "Epoch 38/100\n",
      "1240/1240 [==============================] - 1s 750us/step - loss: 1.5843e-04\n",
      "Epoch 39/100\n",
      "1240/1240 [==============================] - 1s 693us/step - loss: 1.6059e-04\n",
      "Epoch 40/100\n",
      "1240/1240 [==============================] - 1s 680us/step - loss: 1.6420e-04\n",
      "Epoch 41/100\n",
      "1240/1240 [==============================] - 1s 688us/step - loss: 1.6134e-04\n",
      "Epoch 42/100\n",
      "1240/1240 [==============================] - 1s 690us/step - loss: 1.5422e-04\n",
      "Epoch 43/100\n",
      "1240/1240 [==============================] - 1s 684us/step - loss: 1.5702e-04\n",
      "Epoch 44/100\n",
      "1240/1240 [==============================] - 1s 690us/step - loss: 1.5950e-04\n",
      "Epoch 45/100\n",
      "1240/1240 [==============================] - 1s 692us/step - loss: 1.6053e-04\n",
      "Epoch 46/100\n",
      "1240/1240 [==============================] - 1s 691us/step - loss: 1.5986e-04\n",
      "Epoch 47/100\n",
      "1240/1240 [==============================] - 1s 692us/step - loss: 1.5678e-04\n",
      "Epoch 48/100\n",
      "1240/1240 [==============================] - 1s 679us/step - loss: 1.6356e-04\n",
      "Epoch 49/100\n",
      "1240/1240 [==============================] - 1s 717us/step - loss: 1.6391e-04\n",
      "Epoch 50/100\n",
      "1240/1240 [==============================] - 1s 695us/step - loss: 1.5701e-04\n",
      "Epoch 51/100\n",
      "1240/1240 [==============================] - 1s 688us/step - loss: 1.5567e-04\n",
      "Epoch 52/100\n",
      "1240/1240 [==============================] - 1s 706us/step - loss: 1.5901e-04\n",
      "Epoch 53/100\n",
      "1240/1240 [==============================] - 1s 729us/step - loss: 1.5605e-04\n",
      "Epoch 54/100\n",
      "1240/1240 [==============================] - 1s 676us/step - loss: 1.6006e-04\n",
      "Epoch 55/100\n",
      "1240/1240 [==============================] - 1s 679us/step - loss: 1.5578e-04\n",
      "Epoch 56/100\n",
      "1240/1240 [==============================] - 1s 678us/step - loss: 1.5954e-04\n",
      "Epoch 57/100\n",
      "1240/1240 [==============================] - 1s 679us/step - loss: 1.5646e-04\n",
      "Epoch 58/100\n",
      "1240/1240 [==============================] - 1s 678us/step - loss: 1.5830e-04\n",
      "Epoch 59/100\n",
      "1240/1240 [==============================] - 1s 690us/step - loss: 1.5593e-04\n",
      "Epoch 60/100\n",
      "1240/1240 [==============================] - 1s 697us/step - loss: 1.5833e-04\n",
      "Epoch 61/100\n",
      "1240/1240 [==============================] - 1s 669us/step - loss: 1.5761e-04\n",
      "Epoch 62/100\n",
      "1240/1240 [==============================] - 1s 674us/step - loss: 1.5660e-04\n",
      "Epoch 63/100\n",
      "1240/1240 [==============================] - 1s 683us/step - loss: 1.6079e-04\n",
      "Epoch 64/100\n",
      "1240/1240 [==============================] - 1s 683us/step - loss: 1.5635e-04\n",
      "Epoch 65/100\n",
      "1240/1240 [==============================] - 1s 683us/step - loss: 1.5704e-04\n",
      "Epoch 66/100\n",
      "1240/1240 [==============================] - 1s 692us/step - loss: 1.6148e-04\n",
      "Epoch 67/100\n",
      "1240/1240 [==============================] - 1s 681us/step - loss: 1.5883e-04\n",
      "Epoch 68/100\n",
      "1240/1240 [==============================] - 1s 686us/step - loss: 1.5648e-04\n",
      "Epoch 69/100\n",
      "1240/1240 [==============================] - 1s 679us/step - loss: 1.5926e-04\n",
      "Epoch 70/100\n",
      "1240/1240 [==============================] - 1s 681us/step - loss: 1.5861e-04\n",
      "Epoch 71/100\n",
      "1240/1240 [==============================] - 1s 690us/step - loss: 1.5582e-04\n",
      "Epoch 72/100\n",
      "1240/1240 [==============================] - 1s 683us/step - loss: 1.5473e-04\n",
      "Epoch 73/100\n",
      "1240/1240 [==============================] - 1s 689us/step - loss: 1.6369e-04\n",
      "Epoch 74/100\n",
      "1240/1240 [==============================] - 1s 682us/step - loss: 1.5988e-04\n",
      "Epoch 75/100\n",
      "1240/1240 [==============================] - 1s 682us/step - loss: 1.6102e-04\n",
      "Epoch 76/100\n",
      "1240/1240 [==============================] - 1s 683us/step - loss: 1.6446e-04\n",
      "Epoch 77/100\n",
      "1240/1240 [==============================] - 1s 683us/step - loss: 1.5811e-04\n",
      "Epoch 78/100\n",
      "1240/1240 [==============================] - 1s 682us/step - loss: 1.5545e-04\n",
      "Epoch 79/100\n",
      "1240/1240 [==============================] - 1s 710us/step - loss: 1.5653e-04\n",
      "Epoch 80/100\n",
      "1240/1240 [==============================] - 1s 681us/step - loss: 1.5420e-04\n",
      "Epoch 81/100\n",
      "1240/1240 [==============================] - 1s 705us/step - loss: 1.5797e-04\n",
      "Epoch 82/100\n",
      "1240/1240 [==============================] - 1s 685us/step - loss: 1.5815e-04\n",
      "Epoch 83/100\n",
      "1240/1240 [==============================] - 1s 691us/step - loss: 1.5397e-04\n",
      "Epoch 84/100\n",
      "1240/1240 [==============================] - 1s 689us/step - loss: 1.5731e-04\n",
      "Epoch 85/100\n",
      "1240/1240 [==============================] - 1s 685us/step - loss: 1.5811e-04\n",
      "Epoch 86/100\n",
      "1240/1240 [==============================] - 1s 689us/step - loss: 1.5973e-04\n",
      "Epoch 87/100\n",
      "1240/1240 [==============================] - 1s 694us/step - loss: 1.5769e-04\n",
      "Epoch 88/100\n",
      "1240/1240 [==============================] - 1s 686us/step - loss: 1.5735e-04\n",
      "Epoch 89/100\n",
      "1240/1240 [==============================] - 1s 683us/step - loss: 1.6075e-04\n",
      "Epoch 90/100\n",
      "1240/1240 [==============================] - 1s 682us/step - loss: 1.5535e-04\n",
      "Epoch 91/100\n"
     ]
    },
    {
     "name": "stdout",
     "output_type": "stream",
     "text": [
      "1240/1240 [==============================] - 1s 652us/step - loss: 1.5665e-04\n",
      "Epoch 92/100\n",
      "1240/1240 [==============================] - 1s 651us/step - loss: 1.5376e-04\n",
      "Epoch 93/100\n",
      "1240/1240 [==============================] - 1s 655us/step - loss: 1.5798e-04\n",
      "Epoch 94/100\n",
      "1240/1240 [==============================] - 1s 648us/step - loss: 1.5748e-04\n",
      "Epoch 95/100\n",
      "1240/1240 [==============================] - 1s 660us/step - loss: 1.5506e-04\n",
      "Epoch 96/100\n",
      "1240/1240 [==============================] - 1s 664us/step - loss: 1.5684e-04\n",
      "Epoch 97/100\n",
      "1240/1240 [==============================] - 1s 665us/step - loss: 1.5692e-04\n",
      "Epoch 98/100\n",
      "1240/1240 [==============================] - 1s 653us/step - loss: 1.5640e-04\n",
      "Epoch 99/100\n",
      "1240/1240 [==============================] - 1s 679us/step - loss: 1.5636e-04\n",
      "Epoch 100/100\n",
      "1240/1240 [==============================] - 1s 652us/step - loss: 1.5902e-04\n"
     ]
    },
    {
     "data": {
      "text/plain": [
       "<keras.callbacks.History at 0x110c01a58>"
      ]
     },
     "execution_count": 6,
     "metadata": {},
     "output_type": "execute_result"
    }
   ],
   "source": [
    "#initialising the RNN\n",
    "regressor = Sequential()\n",
    "regressor.add(LSTM(units = 4, activation = 'sigmoid', input_shape = (None, 1)))#adding the input layer and the LSTM layer\n",
    "regressor.add(Dense(units = 1))#adding the output layer\n",
    "regressor.compile(optimizer = 'adam', loss = 'mean_squared_error')#compiling the RNNregressor\n",
    "regressor.fit(X_train, y_train, batch_size = 5, epochs = 100)#fitting the RNN to the Training set"
   ]
  },
  {
   "cell_type": "code",
   "execution_count": 21,
   "metadata": {},
   "outputs": [],
   "source": [
    "#making the predictions\n",
    "def testtransform(test_set):\n",
    "    test_set = df_test.values\n",
    "    inputs = np.reshape(test_set, (len(test_set), 1))\n",
    "    inputs = min_max_scaler.transform(inputs)\n",
    "    inputs = np.reshape(inputs, (len(inputs), 1, 1))\n",
    "    return inputs"
   ]
  },
  {
   "cell_type": "code",
   "execution_count": 26,
   "metadata": {},
   "outputs": [],
   "source": [
    "inputs=testtransform(test_set)\n",
    "predicted_price = regressor.predict(inputs)\n",
    "predicted_price = min_max_scaler.inverse_transform(predicted_price)"
   ]
  },
  {
   "cell_type": "code",
   "execution_count": 29,
   "metadata": {},
   "outputs": [],
   "source": [
    "#visualising the results\n",
    "def plotting (test_set,df_test, predicted_price):\n",
    "    plt.figure(figsize=(25,15), dpi=50, facecolor='w', edgecolor='k')\n",
    "    ax = plt.gca()  \n",
    "    plt.plot(test_set, color = 'red', label = 'Real BTC Value')\n",
    "    plt.plot(predicted_price, color = 'blue', label = 'Predicted BTC Price')\n",
    "    plt.title('BTC Price Prediction', fontsize=20)\n",
    "    df_test = df_test.reset_index()\n",
    "    x=df_test.index\n",
    "    labels = df_test['Date']\n",
    "    plt.xticks(x, labels, rotation = 'vertical')\n",
    "    for tick in ax.xaxis.get_major_ticks():\n",
    "        tick.label1.set_fontsize(10)\n",
    "    for tick in ax.yaxis.get_major_ticks():\n",
    "        tick.label1.set_fontsize(10)\n",
    "    plt.xlabel('Date', fontsize=10)\n",
    "    plt.ylabel('BTC Price(USD)', fontsize=20)\n",
    "    plt.legend(loc=2, prop={'size': 25})\n",
    "    plt.show()"
   ]
  },
  {
   "cell_type": "code",
   "execution_count": 30,
   "metadata": {},
   "outputs": [
    {
     "data": {
      "image/png": "[encoded data removed]",
      "text/plain": [
       "<Figure size 1250x750 with 1 Axes>"
      ]
     },
     "metadata": {},
     "output_type": "display_data"
    }
   ],
   "source": [
    "plotting (test_set,df_test, predicted_price)"
   ]
  },
  {
   "cell_type": "markdown",
   "metadata": {},
   "source": [
    "Evaluation"
   ]
  },
  {
   "cell_type": "code",
   "execution_count": 9,
   "metadata": {},
   "outputs": [
    {
     "data": {
      "text/plain": [
       "662.0635697418362"
      ]
     },
     "execution_count": 9,
     "metadata": {},
     "output_type": "execute_result"
    }
   ],
   "source": [
    "mean_squared_error(test_set, predicted_price)"
   ]
  },
  {
   "cell_type": "markdown",
   "metadata": {},
   "source": [
    "The preddictions were fairly accurate and followed the trends in the actual price flutuations for the period of 30 days. The mean squared error was 662 which is an indicator of relatively high accuracy."
   ]
  }
 ],
 "metadata": {
  "kernelspec": {
   "display_name": "Python 3",
   "language": "python",
   "name": "python3"
  },
  "language_info": {
   "codemirror_mode": {
    "name": "ipython",
    "version": 3
   },
   "file_extension": ".py",
   "mimetype": "text/x-python",
   "name": "python",
   "nbconvert_exporter": "python",
   "pygments_lexer": "ipython3",
   "version": "3.6.5"
  }
 },
 "nbformat": 4,
 "nbformat_minor": 2
}
